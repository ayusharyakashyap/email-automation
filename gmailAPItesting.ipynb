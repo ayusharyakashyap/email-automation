{
 "cells": [
  {
   "cell_type": "code",
   "execution_count": null,
   "id": "1f397652-fa29-4792-9564-f945f1a488e1",
   "metadata": {},
   "outputs": [
    {
     "name": "stdout",
     "output_type": "stream",
     "text": [
      "Please visit this URL to authorize this application: https://accounts.google.com/o/oauth2/auth?response_type=code&client_id=208589094238-nqpmnoec2lmkr5jbu637ea2u3chsg4lt.apps.googleusercontent.com&redirect_uri=http%3A%2F%2Flocalhost%3A58423%2F&scope=https%3A%2F%2Fwww.googleapis.com%2Fauth%2Fgmail.readonly&state=Upa8dL4OcILBAA56iro2XhhDWZm0R8&access_type=offline\n"
     ]
    }
   ],
   "source": [
    "from google.oauth2 import service_account\n",
    "from google_auth_oauthlib.flow import InstalledAppFlow\n",
    "from googleapiclient.discovery import build\n",
    "\n",
    "# Load the credentials JSON file you downloaded\n",
    "SCOPES = ['https://www.googleapis.com/auth/gmail.readonly']  # Read-only scope for testing\n",
    "creds = None\n",
    "\n",
    "# Perform OAuth 2.0 authentication\n",
    "flow = InstalledAppFlow.from_client_secrets_file('client_secret_208589094238-nqpmnoec2lmkr5jbu637ea2u3chsg4lt.apps.googleusercontent.com.json', SCOPES)\n",
    "creds = flow.run_local_server(port=0)\n",
    "\n",
    "# Connect to Gmail API\n",
    "service = build('gmail', 'v1', credentials=creds)\n",
    "\n",
    "# Test by getting the list of labels\n",
    "results = service.users().labels().list(userId='me').execute()\n",
    "labels = results.get('labels', [])\n",
    "\n",
    "print(\"Labels:\")\n",
    "for label in labels:\n",
    "    print(label['name'])\n"
   ]
  },
  {
   "cell_type": "code",
   "execution_count": null,
   "id": "024fd6b8-77dd-4d03-ba95-c7fee37749de",
   "metadata": {},
   "outputs": [],
   "source": []
  }
 ],
 "metadata": {
  "kernelspec": {
   "display_name": "Python 3 (ipykernel)",
   "language": "python",
   "name": "python3"
  },
  "language_info": {
   "codemirror_mode": {
    "name": "ipython",
    "version": 3
   },
   "file_extension": ".py",
   "mimetype": "text/x-python",
   "name": "python",
   "nbconvert_exporter": "python",
   "pygments_lexer": "ipython3",
   "version": "3.11.0"
  }
 },
 "nbformat": 4,
 "nbformat_minor": 5
}
