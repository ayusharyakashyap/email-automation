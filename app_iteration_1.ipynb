{
 "cells": [
  {
   "cell_type": "code",
   "execution_count": 1,
   "id": "d1c7ebd4-12b2-45b2-8acd-ae4197db387b",
   "metadata": {},
   "outputs": [],
   "source": [
    "from __future__ import print_function\n",
    "import os.path\n",
    "import re\n",
    "from google.oauth2.credentials import Credentials\n",
    "from google_auth_oauthlib.flow import InstalledAppFlow\n",
    "from googleapiclient.discovery import build\n",
    "from transformers import pipeline\n",
    "from sklearn.feature_extraction.text import CountVectorizer"
   ]
  },
  {
   "cell_type": "code",
   "execution_count": 2,
   "id": "c533928f-1dfa-4432-a14f-cd20d051a1c4",
   "metadata": {},
   "outputs": [],
   "source": [
    "# Define the scope for Gmail API access (readonly).\n",
    "SCOPES = ['https://www.googleapis.com/auth/gmail.readonly']"
   ]
  },
  {
   "cell_type": "code",
   "execution_count": 3,
   "id": "85d6d602-0efd-4010-9149-bfea27a2943f",
   "metadata": {},
   "outputs": [],
   "source": [
    "def authenticate_gmail():\n",
    "    \"\"\"Authenticate and return a Gmail service instance.\"\"\"\n",
    "    creds = None\n",
    "    if os.path.exists('token.json'):\n",
    "        creds = Credentials.from_authorized_user_file('token.json', SCOPES)\n",
    "    else:\n",
    "        flow = InstalledAppFlow.from_client_secrets_file('client_secret.json', SCOPES)\n",
    "        creds = flow.run_local_server(port=0)\n",
    "        with open('token.json', 'w') as token:\n",
    "            token.write(creds.to_json())\n",
    "    return build('gmail', 'v1', credentials=creds)"
   ]
  },
  {
   "cell_type": "code",
   "execution_count": 4,
   "id": "001ad89a-9ed3-4118-9f34-fa2cbbadce11",
   "metadata": {},
   "outputs": [],
   "source": [
    "def get_unread_emails(service):\n",
    "    \"\"\"Get all unread emails.\"\"\"\n",
    "    try:\n",
    "        results = service.users().messages().list(userId='me', q='is:unread').execute()\n",
    "        messages = results.get('messages', [])\n",
    "\n",
    "        if not messages:\n",
    "            print(\"No unread emails found.\")\n",
    "            return []\n",
    "\n",
    "        unread_emails = []\n",
    "        for msg in messages:\n",
    "            message = service.users().messages().get(userId='me', id=msg['id'], format='full').execute()\n",
    "            subject = next(header['value'] for header in message['payload']['headers'] if header['name'] == 'Subject')\n",
    "            snippet = message.get('snippet', '')\n",
    "            link = f\"https://mail.google.com/mail/u/3/#inbox/{msg['id']}\"  # Create link to email\n",
    "            unread_emails.append({'subject': subject, 'snippet': snippet, 'link': link, 'id': msg['id']})\n",
    "\n",
    "        return unread_emails\n",
    "\n",
    "    except Exception as error:\n",
    "        print(f'An error occurred: {error}')\n",
    "        return []"
   ]
  },
  {
   "cell_type": "code",
   "execution_count": 5,
   "id": "a5fd9fa3-5b20-4bee-833b-f388de52be1c",
   "metadata": {},
   "outputs": [],
   "source": [
    "def clean_email_content(content):\n",
    "    # Remove typical introductory phrases or sections\n",
    "    content = re.sub(r'(?:From|Sent|To|Subject|Date|Regards|Sincerely|Best regards|On \\w+day, \\d{1,2} \\w+ \\d{4}).*$', '', content, flags=re.IGNORECASE)\n",
    "    content = re.sub(r'\\n\\s*\\n', '\\n', content)  # Remove extra newlines\n",
    "    return content.strip()"
   ]
  },
  {
   "cell_type": "code",
   "execution_count": 6,
   "id": "f71ab79a-b730-4d2d-ae83-570b1d9da008",
   "metadata": {},
   "outputs": [],
   "source": [
    "def extract_keywords(text, num_keywords=5):\n",
    "    \"\"\"Extract keywords from the given text.\"\"\"\n",
    "    vectorizer = CountVectorizer(stop_words='english')\n",
    "    X = vectorizer.fit_transform([text])\n",
    "    keywords = vectorizer.get_feature_names_out()\n",
    "    # Get the highest scoring keywords\n",
    "    scores = X.sum(axis=0).A1\n",
    "    top_keywords = sorted(zip(scores, keywords), reverse=True)[:num_keywords]\n",
    "    return [keyword for score, keyword in top_keywords]"
   ]
  },
  {
   "cell_type": "code",
   "execution_count": 7,
   "id": "523e1d7b-8c88-46e8-88d5-80adccc5d8b5",
   "metadata": {},
   "outputs": [],
   "source": [
    "def summarize_email(email_content):\n",
    "    \"\"\"Summarize the email content using a Hugging Face model.\"\"\"\n",
    "    summarizer = pipeline(\"summarization\", model=\"facebook/bart-large-cnn\")\n",
    "    summary = summarizer(email_content, max_length=150, min_length=40, do_sample=False)\n",
    "    return summary[0]['summary_text']"
   ]
  },
  {
   "cell_type": "code",
   "execution_count": 8,
   "id": "c920a04b-7818-40f3-9629-4c9f4b56eec7",
   "metadata": {},
   "outputs": [
    {
     "name": "stderr",
     "output_type": "stream",
     "text": [
      "Hardware accelerator e.g. GPU is available in the environment, but no `device` argument is passed to the `Pipeline` object. Model will be on CPU.\n",
      "Your max_length is set to 150, but your input_length is only 9. Since this is a summarization task, where outputs shorter than the input are typically wanted, you might consider decreasing max_length manually, e.g. summarizer('...', max_length=4)\n"
     ]
    },
    {
     "name": "stdout",
     "output_type": "stream",
     "text": [
      "Subject: Re: Regarding 4 Credit Project Elective for the Upcoming Semester\n",
      "Summary: I have a project. Dear Students, I have aproject. I'm working on a project for my students. Please help me with the project. Please email me at jennifer.smith@mailonline.co.uk.\n",
      "Keywords: ['students', 'project', 'dear']\n",
      "Link: https://mail.google.com/mail/u/3/#inbox/192f6a090d899594\n",
      "\n"
     ]
    },
    {
     "name": "stderr",
     "output_type": "stream",
     "text": [
      "Hardware accelerator e.g. GPU is available in the environment, but no `device` argument is passed to the `Pipeline` object. Model will be on CPU.\n",
      "Your max_length is set to 150, but your input_length is only 58. Since this is a summarization task, where outputs shorter than the input are typically wanted, you might consider decreasing max_length manually, e.g. summarizer('...', max_length=29)\n"
     ]
    },
    {
     "name": "stdout",
     "output_type": "stream",
     "text": [
      "Subject: T1-24-25-DAS 703: Updating Project Group and Title in Googledoc\n",
      "Summary: Updating Project Group and Title in Googledoc by Prof. Uttam Kumar - Monday, 4. T1-24-25-DAS 703 » Forums » Announcements » Updating Project group and title in Go Googleledoc\n",
      "Keywords: ['uttam', 'updating', 'title', 'project', 'prof']\n",
      "Link: https://mail.google.com/mail/u/3/#inbox/192f618c87eff600\n",
      "\n"
     ]
    },
    {
     "name": "stderr",
     "output_type": "stream",
     "text": [
      "Hardware accelerator e.g. GPU is available in the environment, but no `device` argument is passed to the `Pipeline` object. Model will be on CPU.\n",
      "Your max_length is set to 150, but your input_length is only 60. Since this is a summarization task, where outputs shorter than the input are typically wanted, you might consider decreasing max_length manually, e.g. summarizer('...', max_length=30)\n"
     ]
    },
    {
     "name": "stdout",
     "output_type": "stream",
     "text": [
      "Subject: T1-24-CSE 303: Project Deliverable 1\n",
      "Summary: Project Deliverable 1 by IMT2021082 Vidhu Arora - Monday, 4 November 2024, 12:05 PM. T1-24-CSE 303 » Forums » Announcements » Project deliverable 1.\n",
      "Keywords: ['vidhu', 'project', 'imt2021082', 'deliverable', 'arora']\n",
      "Link: https://mail.google.com/mail/u/3/#inbox/192f5e8496928362\n",
      "\n"
     ]
    },
    {
     "name": "stderr",
     "output_type": "stream",
     "text": [
      "Hardware accelerator e.g. GPU is available in the environment, but no `device` argument is passed to the `Pipeline` object. Model will be on CPU.\n",
      "Your max_length is set to 150, but your input_length is only 4. Since this is a summarization task, where outputs shorter than the input are typically wanted, you might consider decreasing max_length manually, e.g. summarizer('...', max_length=2)\n"
     ]
    },
    {
     "name": "stdout",
     "output_type": "stream",
     "text": [
      "Subject: Microsoft is hiring Technical Program Manager Intern at INR 40,000/Month!\n",
      "Summary: CNN.com will feature iReporter photos in a weekly Travel Snapshots gallery. Visit CNN.com/Travel each week for a new gallery of snapshots. Click here for the gallery.\n",
      "Keywords: ['tap']\n",
      "Link: https://mail.google.com/mail/u/3/#inbox/192f5a1b4889ee32\n",
      "\n"
     ]
    },
    {
     "name": "stderr",
     "output_type": "stream",
     "text": [
      "Hardware accelerator e.g. GPU is available in the environment, but no `device` argument is passed to the `Pipeline` object. Model will be on CPU.\n",
      "Your max_length is set to 150, but your input_length is only 19. Since this is a summarization task, where outputs shorter than the input are typically wanted, you might consider decreasing max_length manually, e.g. summarizer('...', max_length=9)\n"
     ]
    },
    {
     "name": "stdout",
     "output_type": "stream",
     "text": [
      "Subject: Samvaad talk on \"An empirical analysis of prices of radio spectrum for mobile communication services\" by Dr. V. Sridhar\n",
      "Summary: This is a gentle reminder for the weekly Samvaad Talk happening on the blog. Greetings everyone, This is a Gentle reminder for  the weekly SAMVAAD Talk happening online. This week, we will be talking about the recent election in the U.S.\n",
      "Keywords: ['weekly', 'talk', 'samvaad', 'reminder', 'happening']\n",
      "Link: https://mail.google.com/mail/u/3/#inbox/192f59c27e45ae03\n",
      "\n"
     ]
    }
   ],
   "source": [
    "if __name__ == '__main__':\n",
    "    # Authenticate and create the Gmail service\n",
    "    service = authenticate_gmail()\n",
    "    \n",
    "    # Get and process unread emails\n",
    "    unread_emails = get_unread_emails(service)\n",
    "    \n",
    "    for email in unread_emails:\n",
    "        email_content = email['snippet']  # Assuming snippet is enough; otherwise, you may need to fetch the full content\n",
    "        cleaned_content = clean_email_content(email_content)\n",
    "        \n",
    "        if cleaned_content:\n",
    "            summary = summarize_email(cleaned_content)\n",
    "            keywords = extract_keywords(cleaned_content)\n",
    "\n",
    "            print(f\"Subject: {email['subject']}\")\n",
    "            print(f\"Summary: {summary}\")\n",
    "            print(f\"Keywords: {keywords}\")\n",
    "            print(f\"Link: {email['link']}\\n\")"
   ]
  },
  {
   "cell_type": "code",
   "execution_count": null,
   "id": "5deabc1b-8832-4ea1-a968-1bdb7803c156",
   "metadata": {},
   "outputs": [],
   "source": []
  }
 ],
 "metadata": {
  "kernelspec": {
   "display_name": "Python 3 (ipykernel)",
   "language": "python",
   "name": "python3"
  },
  "language_info": {
   "codemirror_mode": {
    "name": "ipython",
    "version": 3
   },
   "file_extension": ".py",
   "mimetype": "text/x-python",
   "name": "python",
   "nbconvert_exporter": "python",
   "pygments_lexer": "ipython3",
   "version": "3.11.0"
  }
 },
 "nbformat": 4,
 "nbformat_minor": 5
}
